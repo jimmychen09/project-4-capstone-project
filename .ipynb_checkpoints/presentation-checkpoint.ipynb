{
 "cells": [
  {
   "cell_type": "markdown",
   "metadata": {
    "slideshow": {
     "slide_type": "slide"
    }
   },
   "source": [
    "## Classify skin lesions ##\n",
    "\n",
    "**null hypothesis:** There is no difference between dermatoscopic images of pigmented skin lesions between skin cancer diagnostic categories.\n",
    "\n",
    "**alternative hypothesis:** There is a difference between dermatoscopic images of pigmented skin lesions between skin cancer diagnostic categories.\n",
    "\n",
    "**goals and success:** Correctly classify dermatoscoptic images of pigmented skin lesions into a skin cancer diagnostic category at a probability higher than chance. There are 7 categories, so success metric would need to be 15% or greater.\n",
    "\n",
    "**risks or limitations:** Requires enough sample data in each diagnostic category. Also required enough similarities of images within diagnostic category as well as distinctions between diagnostic categories."
   ]
  },
  {
   "cell_type": "markdown",
   "metadata": {
    "slideshow": {
     "slide_type": "slide"
    }
   },
   "source": [
    "Download HAM10000 dataset (multi-source collection of dermatoscopic images of common pigmented skin lesions) with metadata in csv file\n",
    "\n",
    "<img src=\"img_3.png\" alt=\"pre-processesing\" title=\"pre-processesing\"/>"
   ]
  },
  {
   "cell_type": "markdown",
   "metadata": {
    "slideshow": {
     "slide_type": "subslide"
    }
   },
   "source": [
    "<img src=\"dx_samples_1.png\" alt=\"Diagnostic category samples\" title=\"Diagnostic category samples\"/>"
   ]
  },
  {
   "cell_type": "markdown",
   "metadata": {
    "slideshow": {
     "slide_type": "subslide"
    }
   },
   "source": [
    "<img src=\"dx_samples_2.png\" alt=\"Diagnostic category samples\" title=\"Diagnostic category samples\"/>"
   ]
  },
  {
   "cell_type": "code",
   "execution_count": null,
   "metadata": {
    "slideshow": {
     "slide_type": "subslide"
    }
   },
   "outputs": [],
   "source": [
    "from glob import glob\n",
    "import os \n",
    "import shutil\n",
    "import pandas as pd\n",
    "\n",
    "ham_df = pd.read_csv(\"./data/HAM10000_metadata.csv\")\n",
    "\n",
    "# Credit to Kevin Mader for this code\n",
    "base_skin_dir = os.path.join(\".\", \"data\")\n",
    "\n",
    "imageid_path_dict = {os.path.splitext(os.path.basename(x))[0]: x\n",
    "                     for x in glob(os.path.join(base_skin_dir, \"*\", \"*.jpg\"))}\n",
    "\n",
    "ham_df['path'] = ham_df['image_id'].map(imageid_path_dict.get)\n",
    "\n",
    "# Placing label (diagnosis) into the name of image file\n",
    "for dx, filename in zip(ham_df['dx'], ham_df['path']):\n",
    "    path = filename[0:30]\n",
    "    image_id = filename[-12:]\n",
    "    os.rename(filename, path+dx+image_id)\n",
    "    \n",
    "# Path where the image files are currently stored\n",
    "path_1 = \"./data/HAM10000_images_part_1\"\n",
    "path_2 = \"./data/HAM10000_images_part_2\"\n",
    "\n",
    "# Create a new directory to store all images together\n",
    "# os.mkdir(\"./data/images/\")\n",
    "\n",
    "# Function to copy files to this image directory\n",
    "def copy_files(path):\n",
    "    src_files = os.listdir(path)\n",
    "    for filename in src_files:\n",
    "        full_filename = os.path.join(path, filename)\n",
    "        if (os.path.isfile(full_filename)):\n",
    "            shutil.copy(full_filename, \"./data/images/\"+filename)\n",
    "   \n",
    "copy_files(path_1)\n",
    "copy_files(path_2)\n",
    "\n",
    "# Create a new directory to store some images\n",
    "path_img = \"./data/images\"\n",
    "os.mkdir(\"./data/test_images/\")\n",
    "\n",
    "# Function to move files to this test directory\n",
    "def move_files(dx, repeat):\n",
    "    src_files=os.listdir(path_img)\n",
    "    i = 0\n",
    "    dx = [filename for filename in src_files if dx in filename]\n",
    "    for i in range(repeat):\n",
    "        filename = dx[i]\n",
    "        full_filename = os.path.join(path_img, filename)\n",
    "        shutil.move(full_filename, \"./data/test_images/\"+filename)\n",
    "\n",
    "# Set aside these images for testing at the end\n",
    "move_files(\"akiec\", 3)\n",
    "move_files(\"bcc\", 2)\n",
    "move_files(\"bkl\", 2)\n",
    "move_files(\"df\", 2)\n",
    "move_files(\"mel\", 2)\n",
    "move_files(\"nv\", 2)\n",
    "move_files(\"vasc\", 2)"
   ]
  },
  {
   "cell_type": "markdown",
   "metadata": {
    "slideshow": {
     "slide_type": "slide"
    }
   },
   "source": [
    "### Data augmentation###\n",
    "<img src=\"akiec_augmentations.png\" alt=\"Actinic keratosis augmentations\" title=\"Actinic keratosis augmentations\"/>"
   ]
  },
  {
   "cell_type": "markdown",
   "metadata": {
    "slideshow": {
     "slide_type": "subslide"
    }
   },
   "source": [
    "<img src=\"bkl_augmentations.png\" alt=\"Benign keratosis augmentations\" title=\"Benign keratosis augmentations\"/>"
   ]
  },
  {
   "cell_type": "markdown",
   "metadata": {
    "slideshow": {
     "slide_type": "subslide"
    }
   },
   "source": [
    "<img src=\"mel_augmentations.png\" alt=\"Melanoma augmentations\" title=\"Melanoma augmentations\"/>"
   ]
  },
  {
   "cell_type": "markdown",
   "metadata": {
    "slideshow": {
     "slide_type": "slide"
    }
   },
   "source": [
    "### Batch images###\n",
    "<img src=\"example_batch.png\" alt=\"Example batch\" title=\"Example batch\"/>"
   ]
  },
  {
   "cell_type": "markdown",
   "metadata": {
    "slideshow": {
     "slide_type": "subslide"
    }
   },
   "source": [
    "<img src=\"example_batch2.png\" alt=\"Example batch\" title=\"Example batch\"/>"
   ]
  },
  {
   "cell_type": "markdown",
   "metadata": {
    "slideshow": {
     "slide_type": "slide"
    }
   },
   "source": [
    "### Deep learning###\n",
    "\n",
    "1. Create convolutional neural network with ResNet50 architecture\n",
    "2. Freeze, train last layers (accuracy 84.3%)\n",
    "3. Unfreeze, train whole model (accuracy 87.6%)\n",
    "4. Progressive resizing, freeze, train last layers (accuracy 91.8%)\n",
    "5. Unfreeze, train whole model (accuracy 93.1%)"
   ]
  },
  {
   "cell_type": "markdown",
   "metadata": {
    "slideshow": {
     "slide_type": "subslide"
    }
   },
   "source": [
    "### Most confused###\n",
    "<img src=\"pred_act_loss_prob.png\" alt=\"Prediction Actual Loss Probability\" title=\"Prediction Actual Loss Probability\"/>"
   ]
  },
  {
   "cell_type": "markdown",
   "metadata": {
    "slideshow": {
     "slide_type": "subslide"
    }
   },
   "source": [
    "<img src=\"confusion_matrix.png\" alt=\"Confusion Matrix\" title=\"Confusion Matrix\"/>"
   ]
  },
  {
   "cell_type": "markdown",
   "metadata": {
    "slideshow": {
     "slide_type": "slide"
    }
   },
   "source": [
    "### Last steps###\n",
    "\n",
    "- ISIC 2018 Conference and competition - \n",
    "https://submission.challenge.isic-archive.com/#phase/5bee4312c5eaea4f24b5ec0c\n",
    "\n",
    "- Deployed model - \n",
    "https://skintest.onrender.com/"
   ]
  }
 ],
 "metadata": {
  "celltoolbar": "Slideshow",
  "kernelspec": {
   "display_name": "Python 3",
   "language": "python",
   "name": "python3"
  },
  "language_info": {
   "codemirror_mode": {
    "name": "ipython",
    "version": 3
   },
   "file_extension": ".py",
   "mimetype": "text/x-python",
   "name": "python",
   "nbconvert_exporter": "python",
   "pygments_lexer": "ipython3",
   "version": "3.6.5"
  }
 },
 "nbformat": 4,
 "nbformat_minor": 2
}
